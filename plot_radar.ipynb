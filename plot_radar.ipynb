{
 "cells": [
  {
   "cell_type": "code",
   "execution_count": null,
   "metadata": {
    "collapsed": false
   },
   "outputs": [],
   "source": [
    "%matplotlib inline"
   ]
  },
  {
   "cell_type": "markdown",
   "metadata": {},
   "source": [
    "\n# Radar Charts\n\n* ``mplsoccer``, ``radar_chart`` module helps one to plot radar charts in a few lines of code.\n\n* The radar-chart inspiration is `StatsBomb <https://twitter.com/StatsBomb/>`_\n  and `Rami Moghadam <https://cargocollective.com/ramimo/2013-NBA-All-Stars>`_\n\n* Here we will show some examples of how to use ``mplsoccer`` to plot radar charts.\n\nWe have re-written the `Soccerplots <https://github.com/Slothfulwave612/soccerplots>`_  Radar module\nto enable greater customisation of the Radar. You can now set the edge color, decide the number of\nconcentric circles, and use hatching or path_effects.\n"
   ]
  },
  {
   "cell_type": "code",
   "execution_count": null,
   "metadata": {
    "collapsed": false
   },
   "outputs": [],
   "source": [
    "from mplsoccer import Radar, FontManager\nimport matplotlib.pyplot as plt"
   ]
  },
  {
   "cell_type": "markdown",
   "metadata": {},
   "source": [
    "## Setting the Radar Boundaries\nOne of the most important decisions with Radars is setting the Radar's boundaries.\nStatsBomb popularised the use of Radars for showing player statistics. I recommend checking out\n`understanding football radars for mugs and muggles\n<https://statsbomb.com/2016/04/understand-football-radars-for-mugs-and-muggles/>`_.\nStatsBomb's rule of thumb is: \"Radar boundaries represent the top 5% and bottom 5%\nof all statistical production by players in that position.\"\n\n"
   ]
  },
  {
   "cell_type": "code",
   "execution_count": null,
   "metadata": {
    "collapsed": false
   },
   "outputs": [],
   "source": [
    "# parameter names of the statistics we want to show\nparams = [\"npxG\", \"Non-Penalty Goals\", \"xA\", \"Key Passes\", \"Through Balls\",\n          \"Progressive Passes\", \"Shot-Creating Actions\", \"Goal-Creating Actions\",\n          \"Dribbles Completed\", \"Pressure Regains\", \"Touches In Box\"]\n\n# The lower and upper boundaries for the statistics\nlow =  [0.08, 0.0, 0.1, 1, 0.6,  4, 3, 0.3, 0.3, 2.0, 2]\nhigh = [0.37, 0.6, 0.6, 4, 1.2, 10, 8, 1.3, 1.5, 5.5, 5]"
   ]
  },
  {
   "cell_type": "markdown",
   "metadata": {},
   "source": [
    "## Instantiate the Radar Class\nWe will instantiate a radar object with the above parameters so we can re-use it\nseveral times.\n\n"
   ]
  },
  {
   "cell_type": "code",
   "execution_count": null,
   "metadata": {
    "collapsed": false
   },
   "outputs": [],
   "source": [
    "radar = Radar(params, low, high,\n              # whether to round any of the labels to integers instead of decimal places\n              round_int=[False]*11,\n              num_rings=4,  # the number of concentric circles (excluding center circle)\n              # if the ring_width is more than the center_circle_radius then\n              # the center circle radius will be wider than the width of the concentric circles\n              ring_width=1, center_circle_radius=1)"
   ]
  },
  {
   "cell_type": "markdown",
   "metadata": {},
   "source": [
    "## Load some fonts\nWe will use mplsoccer's FontManager to load some fonts from Google Fonts.\nWe borrowed the FontManager from the excellent\n`ridge_map library <https://github.com/ColCarroll/ridge_map>`_.\n\n"
   ]
  },
  {
   "cell_type": "code",
   "execution_count": null,
   "metadata": {
    "collapsed": false
   },
   "outputs": [],
   "source": [
    "URL1 = ('https://github.com/googlefonts/SourceSerifProGFVersion/blob/main/'\n        'fonts/SourceSerifPro-Regular.ttf?raw=true')\nserif_regular = FontManager(URL1)\nURL2 = ('https://github.com/googlefonts/SourceSerifProGFVersion/blob/main/'\n        'fonts/SourceSerifPro-ExtraLight.ttf?raw=true')\nserif_extra_light = FontManager(URL2)\nURL3 = ('https://github.com/google/fonts/blob/main/ofl/rubikmonoone/'\n        'RubikMonoOne-Regular.ttf?raw=true')\nrubik_regular = FontManager(URL3)\nURL4 = 'https://github.com/googlefonts/roboto/blob/main/src/hinted/Roboto-Thin.ttf?raw=true'\nrobotto_thin = FontManager(URL4)\nURL5 = 'https://github.com/googlefonts/roboto/blob/main/src/hinted/Roboto-Regular.ttf?raw=true'\nrobotto_regular = FontManager(URL5)\nURL6 = 'https://github.com/googlefonts/roboto/blob/main/src/hinted/Roboto-Bold.ttf?raw=true'\nrobotto_bold = FontManager(URL6)"
   ]
  },
  {
   "cell_type": "markdown",
   "metadata": {},
   "source": [
    "## Player Values\nHere are the player values we are going to plot. The values are taken\nfrom the excellent `fbref <https://fbref.com/en/>`_ website (supplied by StatsBomb).\n\n"
   ]
  },
  {
   "cell_type": "code",
   "execution_count": null,
   "metadata": {
    "collapsed": false
   },
   "outputs": [],
   "source": [
    "bruno_values =  [0.25, 0.42, 0.42, 3.47, 1.04, 8.06, 5.62, 0.97, 0.56, 5.14, 3.54]\nbruyne_values = [0.32, 0.00, 0.43, 3.50, 0.98, 7.72, 6.18, 0.98, 1.71, 4.88, 4.96]"
   ]
  },
  {
   "cell_type": "markdown",
   "metadata": {},
   "source": [
    "## Making a Simple Radar Chart\nHere we will make a very simple radar chart using the ``radar_chart`` module.\nWe will only change the default face and edge colors.\n\n"
   ]
  },
  {
   "cell_type": "code",
   "execution_count": null,
   "metadata": {
    "collapsed": false
   },
   "outputs": [],
   "source": [
    "fig, ax = radar.setup_axis()  # format axis as a radar\nrings_inner = radar.draw_circles(ax=ax, facecolor='#ffb2b2', edgecolor='#fc5f5f')  # draw circles\nradar_output = radar.draw_radar(bruno_values, ax=ax,\n                                kwargs_radar={'facecolor': '#aa65b2'},\n                                kwargs_rings={'facecolor': '#66d8ba'})  # draw the radar\nradar_poly, rings_outer, vertices = radar_output\nrange_labels = radar.draw_range_labels(ax=ax, fontsize=15,\n                                       fontproperties=robotto_thin.prop)  # draw the range labels\nparam_labels = radar.draw_param_labels(ax=ax, fontsize=15,\n                                       fontproperties=robotto_regular.prop)  # draw the param labels"
   ]
  },
  {
   "cell_type": "markdown",
   "metadata": {},
   "source": [
    "## Making a Simple Comparison\nHere we plot two players on the same axes to compare players.\n\n"
   ]
  },
  {
   "cell_type": "code",
   "execution_count": null,
   "metadata": {
    "collapsed": false
   },
   "outputs": [],
   "source": [
    "# plot radar\nfig, ax = radar.setup_axis()\nrings_inner = radar.draw_circles(ax=ax, facecolor='#ffb2b2', edgecolor='#fc5f5f')\nradar_output = radar.draw_radar_compare(bruno_values, bruyne_values, ax=ax,\n                                        kwargs_radar={'facecolor': '#00f2c1', 'alpha': 0.6},\n                                        kwargs_compare={'facecolor': '#d80499', 'alpha': 0.6})\nradar_poly, radar_poly2, vertices1, vertices2 = radar_output\nrange_labels = radar.draw_range_labels(ax=ax, fontsize=15,\n                                       fontproperties=robotto_thin.prop)\nparam_labels = radar.draw_param_labels(ax=ax, fontsize=15,\n                                       fontproperties=robotto_regular.prop)"
   ]
  },
  {
   "cell_type": "markdown",
   "metadata": {},
   "source": [
    "## Making a Clean Radar\nHere we exclude the label lines from the plot.\n\n"
   ]
  },
  {
   "cell_type": "code",
   "execution_count": null,
   "metadata": {
    "collapsed": false
   },
   "outputs": [],
   "source": [
    "fig, ax = radar.setup_axis()  # format axis as a radar\nrings_inner = radar.draw_circles(ax=ax, facecolor='#ffb2b2', edgecolor='#fc5f5f')  # draw circles\nradar_output = radar.draw_radar(bruno_values, ax=ax,\n                                kwargs_radar={'facecolor': '#aa65b2'},\n                                kwargs_rings={'facecolor': '#66d8ba'})  # draw the radar\nradar_poly, rings_outer, vertices = radar_output"
   ]
  },
  {
   "cell_type": "markdown",
   "metadata": {},
   "source": [
    "## Sub Plot Mosaic\nHere we create a function to plot a radar flanked with a title and an endnote axes.\n\n"
   ]
  },
  {
   "cell_type": "code",
   "execution_count": null,
   "metadata": {
    "collapsed": false
   },
   "outputs": [],
   "source": [
    "def radar_mosaic(radar_height=0.915, title_height=0.06, figheight=14):\n    \"\"\" Create a Radar chart flanked by a title and endnote axes.\n\n    Parameters\n    ----------\n    radar_height: float, default 0.915\n        The height of the radar axes in fractions of the figure height (default 91.5%).\n    title_height: float, default 0.06\n        The height of the title axes in fractions of the figure height (default 6%).\n    figheight: float, default 14\n        The figure height in inches.\n\n    Returns\n    -------\n    fig : matplotlib.figure.Figure\n    axs : dict[label, Axes]\n    \"\"\"\n    if title_height + radar_height > 1:\n        error_msg = 'Reduce one of the radar_height or title_height so the total is ≤ 1.'\n        raise ValueError(error_msg)\n    endnote_height = 1 - title_height - radar_height\n    figwidth = figheight * radar_height\n    figure, axes = plt.subplot_mosaic([['title'], ['radar'], ['endnote']],\n                                      gridspec_kw={'height_ratios': [title_height, radar_height,\n                                                                     endnote_height],\n                                                   # the grid takes up the whole of the figure 0-1\n                                                   'bottom': 0, 'left': 0, 'top': 1,\n                                                   'right': 1, 'hspace': 0},\n                                      figsize=(figwidth, figheight))\n    axes['title'].axis('off')\n    axes['endnote'].axis('off')\n    return figure, axes"
   ]
  },
  {
   "cell_type": "markdown",
   "metadata": {},
   "source": [
    "## Adding a title and endnote\nHere we will add an endnote and title to the Radar. We will use a subplot_mosaic to create\nthe figure and pass the axs['radar'] axes to the Radar's methods.\n\n"
   ]
  },
  {
   "cell_type": "code",
   "execution_count": null,
   "metadata": {
    "collapsed": false
   },
   "outputs": [],
   "source": [
    "# creating the figure using the function defined above:\nfig, axs = radar_mosaic(radar_height=0.915, title_height=0.06, figheight=14)\n\n# plot the radar\nradar.setup_axis(ax=axs['radar'])\nrings_inner = radar.draw_circles(ax=axs['radar'], facecolor='#ffb2b2', edgecolor='#fc5f5f')\nradar_output = radar.draw_radar(bruno_values, ax=axs['radar'],\n                                kwargs_radar={'facecolor': '#aa65b2'},\n                                kwargs_rings={'facecolor': '#66d8ba'})\nradar_poly, rings_outer, vertices = radar_output\nrange_labels = radar.draw_range_labels(ax=axs['radar'], fontsize=25,\n                                       fontproperties=robotto_thin.prop)\nparam_labels = radar.draw_param_labels(ax=axs['radar'], fontsize=25,\n                                       fontproperties=robotto_regular.prop)\n\n# adding the endnote and title text (these axes range from 0-1, i.e. 0, 0 is the bottom left)\n# Note we are slightly offsetting the text from the edges by 0.01 (1%, e.g. 0.99)\nendnote_text = axs['endnote'].text(0.99, 0.5, 'Inspired By: StatsBomb / Rami Moghadam', fontsize=15,\n                                   fontproperties=robotto_thin.prop, ha='right', va='center')\ntitle1_text = axs['title'].text(0.01, 0.65, 'Bruno Fernandes', fontsize=25,\n                                fontproperties=robotto_bold.prop, ha='left', va='center')\ntitle2_text = axs['title'].text(0.01, 0.25, 'Manchester United', fontsize=20,\n                                fontproperties=robotto_regular.prop,\n                                ha='left', va='center', color='#B6282F')\ntitle3_text = axs['title'].text(0.99, 0.65, 'Radar Chart', fontsize=25,\n                                fontproperties=robotto_bold.prop, ha='right', va='center')\ntitle4_text = axs['title'].text(0.99, 0.25, 'Midfielder', fontsize=20,\n                                fontproperties=robotto_regular.prop,\n                                ha='right', va='center', color='#B6282F')\n# sphinx_gallery_thumbnail_path = 'gallery/radar/images/sphx_glr_plot_radar_004.png'"
   ]
  },
  {
   "cell_type": "markdown",
   "metadata": {},
   "source": [
    "## Comparison Radar with Titles\nHere we will make a very simple radar chart using ``mplsoccer`` module ``radar_chart``.\nWe will only change the default facecolors.\n\n"
   ]
  },
  {
   "cell_type": "code",
   "execution_count": null,
   "metadata": {
    "collapsed": false
   },
   "outputs": [],
   "source": [
    "# creating the figure using the function defined above:\nfig, axs = radar_mosaic(radar_height=0.915, title_height=0.06, figheight=14)\n\n# plot radar\nradar.setup_axis(ax=axs['radar'])  # format axis as a radar\nrings_inner = radar.draw_circles(ax=axs['radar'], facecolor='#ffb2b2', edgecolor='#fc5f5f')\nradar_output = radar.draw_radar_compare(bruno_values, bruyne_values, ax=axs['radar'],\n                                        kwargs_radar={'facecolor': '#00f2c1', 'alpha': 0.6},\n                                        kwargs_compare={'facecolor': '#d80499', 'alpha': 0.6})\nradar_poly, radar_poly2, vertices1, vertices2 = radar_output\nrange_labels = radar.draw_range_labels(ax=axs['radar'], fontsize=25,\n                                       fontproperties=robotto_thin.prop)\nparam_labels = radar.draw_param_labels(ax=axs['radar'], fontsize=25,\n                                       fontproperties=robotto_regular.prop)\naxs['radar'].scatter(vertices1[:, 0], vertices1[:, 1],\n                     c='#00f2c1', edgecolors='#6d6c6d', marker='o', s=150, zorder=2)\naxs['radar'].scatter(vertices2[:, 0], vertices2[:, 1],\n                     c='#d80499', edgecolors='#6d6c6d', marker='o', s=150, zorder=2)\n\n# adding the endnote and title text (these axes range from 0-1, i.e. 0, 0 is the bottom left)\n# Note we are slightly offsetting the text from the edges by 0.01 (1%, e.g. 0.99)\nendnote_text = axs['endnote'].text(0.99, 0.5, 'Inspired By: StatsBomb / Rami Moghadam', fontsize=15,\n                                   fontproperties=robotto_thin.prop, ha='right', va='center')\ntitle1_text = axs['title'].text(0.01, 0.65, 'Bruno Fernandes', fontsize=25, color='#01c49d',\n                                fontproperties=robotto_bold.prop, ha='left', va='center')\ntitle2_text = axs['title'].text(0.01, 0.25, 'Manchester United', fontsize=20,\n                                fontproperties=robotto_regular.prop,\n                                ha='left', va='center', color='#01c49d')\ntitle3_text = axs['title'].text(0.99, 0.65, 'Kevin De Bruyne', fontsize=25,\n                                fontproperties=robotto_bold.prop,\n                                ha='right', va='center', color='#d80499')\ntitle4_text = axs['title'].text(0.99, 0.25, 'Manchester City', fontsize=20,\n                                fontproperties=robotto_regular.prop,\n                                ha='right', va='center', color='#d80499')"
   ]
  },
  {
   "cell_type": "markdown",
   "metadata": {},
   "source": [
    "## Dark Theme\n\n"
   ]
  },
  {
   "cell_type": "code",
   "execution_count": null,
   "metadata": {
    "collapsed": false
   },
   "outputs": [],
   "source": [
    "# creating the figure using the function defined above:\nfig, axs = radar_mosaic(radar_height=0.915, title_height=0.06, figheight=14)\n\n# plot the radar\nradar.setup_axis(ax=axs['radar'], facecolor='None')\nrings_inner = radar.draw_circles(ax=axs['radar'], facecolor='#28252c', edgecolor='#39353f', lw=1.5)\nradar_output = radar.draw_radar(bruno_values, ax=axs['radar'],\n                                kwargs_radar={'facecolor': '#d0667a'},\n                                kwargs_rings={'facecolor': '#1d537f'})\nradar_poly, rings_outer, vertices = radar_output\nrange_labels = radar.draw_range_labels(ax=axs['radar'], fontsize=25, color='#fcfcfc',\n                                       fontproperties=robotto_thin.prop)\nparam_labels = radar.draw_param_labels(ax=axs['radar'], fontsize=25, color='#fcfcfc',\n                                       fontproperties=robotto_regular.prop)\n\n# adding the endnote and title text (these axes range from 0-1, i.e. 0, 0 is the bottom left)\n# Note we are slightly offsetting the text from the edges by 0.01 (1%, e.g. 0.99)\nendnote_text = axs['endnote'].text(0.99, 0.5, 'Inspired By: StatsBomb / Rami Moghadam',\n                                   color='#fcfcfc', fontproperties=robotto_thin.prop,\n                                   fontsize=15, ha='right', va='center')\ntitle1_text = axs['title'].text(0.01, 0.65, 'Bruno Fernandes', fontsize=25,\n                                fontproperties=robotto_bold.prop,\n                                ha='left', va='center', color='#e4dded')\ntitle2_text = axs['title'].text(0.01, 0.25, 'Manchester United', fontsize=20,\n                                fontproperties=robotto_regular.prop,\n                                ha='left', va='center', color='#cc2a3f')\ntitle3_text = axs['title'].text(0.99, 0.65, 'Radar Chart', fontsize=25,\n                                fontproperties=robotto_bold.prop,\n                                ha='right', va='center', color='#e4dded')\ntitle4_text = axs['title'].text(0.99, 0.25, 'Midfielder', fontsize=20,\n                                fontproperties=robotto_regular.prop,\n                                ha='right', va='center', color='#cc2a3f')\n\nfig.set_facecolor('#121212')"
   ]
  },
  {
   "cell_type": "markdown",
   "metadata": {},
   "source": [
    "## Ben Eine Theme\nThe theme below is inspired by the artist\n`Ben Eine <https://beneine.co.uk/>`_.\n\n"
   ]
  },
  {
   "cell_type": "code",
   "execution_count": null,
   "metadata": {
    "collapsed": false
   },
   "outputs": [],
   "source": [
    "# creating the figure using the function defined above:\nfig, axs = radar_mosaic(radar_height=0.915, title_height=0.06, figheight=14)\n\n# plot the radar\nradar.setup_axis(ax=axs['radar'], facecolor='None')\nrings_inner = radar.draw_circles(ax=axs['radar'], facecolor='#5bc8ef', edgecolor='#b7ebff',\n                                 # you can also vary the linewidths\n                                 # here we gradually increase the blue concentric circles\n                                 linewidth=[0, 1, 2])\nradar_output = radar.draw_radar(bruno_values, ax=axs['radar'],\n                                kwargs_radar={'facecolor': '#fa4554'},\n                                kwargs_rings={'facecolor': '#d298c4'})\nradar_poly, rings_outer, vertices = radar_output\nrange_labels = radar.draw_range_labels(ax=axs['radar'], fontsize=25, color='#f0f6f6',\n                                       fontproperties=robotto_thin.prop)\nparam_labels = radar.draw_param_labels(ax=axs['radar'], fontsize=25, color='#f0f6f6',\n                                       fontproperties=robotto_regular.prop)\naxs['radar'].scatter(vertices[:, 0], vertices[:, 1], c='#eeb743', edgecolors='#070707',\n                     marker='D', s=220, zorder=2)\n\n# adding the endnote and title text (these axes range from 0-1, i.e. 0, 0 is the bottom left)\n# Note we are slightly offsetting the text from the edges by 0.01 (1%, e.g. 0.99)\nendnote_text = axs['endnote'].text(0.99, 0.5, 'The theme is inspired by Ben Eine', fontsize=15,\n                                   fontproperties=robotto_thin.prop, ha='right',\n                                   va='center', color='#f0f6f6')\ntitle1_text = axs['title'].text(0.01, 0.65, 'Bruno Fernandes', fontsize=25,\n                                fontproperties=robotto_bold.prop, ha='left',\n                                va='center', color='#eeb743')\ntitle2_text = axs['title'].text(0.01, 0.25, 'Manchester United', fontsize=20,\n                                fontproperties=robotto_regular.prop, ha='left',\n                                va='center', color='#f0f6f6')\ntitle3_text = axs['title'].text(0.99, 0.65, 'Radar Chart', fontsize=25,\n                                fontproperties=robotto_bold.prop, ha='right',\n                                va='center', color='#eeb743')\ntitle4_text = axs['title'].text(0.99, 0.25, 'Midfielder', fontsize=20,\n                                fontproperties=robotto_regular.prop, ha='right',\n                                va='center', color='#f0f6f6')\n\nfig.set_facecolor('#070707')"
   ]
  },
  {
   "cell_type": "markdown",
   "metadata": {},
   "source": [
    "## Camille Walala theme\nThe theme below is inspired by the London based artist\n`Camille Walala <https://www.camillewalala.com/>`_. It uses two types of\nhatching to create the radar.\n\n"
   ]
  },
  {
   "cell_type": "code",
   "execution_count": null,
   "metadata": {
    "collapsed": false
   },
   "outputs": [],
   "source": [
    "# creating the figure using the function defined above:\nfig, axs = radar_mosaic(radar_height=0.915, title_height=0.06, figheight=14)\n\n# we are creating a new radar object with more rings, integer rounding, and a larger center circle\nradar2 = Radar(params=['Speed', 'Agility', 'Strength', 'Passing', 'Dribbles'],\n               min_range=[0, 0, 0, 0, 0],\n               max_range=[5, 5, 5, 5, 5],\n               # here we make the labels integers instead of floats\n               round_int=[True, True, True, True, True],\n               # make the center circle x2 larger than the concentric circles\n               center_circle_radius=2,\n               # the number of rings has been chosen to divide the max_range evenly\n               num_rings=5)\n\n# plot the radar\nradar2.setup_axis(ax=axs['radar'], facecolor='None')\nrings_inner = radar2.draw_circles(ax=axs['radar'], facecolor='#f77b83', edgecolor='#fe2837')\nradar_output = radar2.draw_radar(values=[5, 2, 4, 3, 1], ax=axs['radar'],\n                                 kwargs_radar={'facecolor': '#f9c728', 'hatch': '.', 'alpha': 1},\n                                 kwargs_rings={'facecolor': '#e6dedc', 'edgecolor': '#1a1414',\n                                               'hatch': '/', 'alpha': 1})\n# draw the radar again but without a facecolor ('None') and an edgecolor\n# we draw it again so we can choose a different edgecolor from the radar\nradar_output2 = radar2.draw_radar(values=[5, 2, 4, 3, 1], ax=axs['radar'],\n                                  kwargs_radar={'facecolor': 'None', 'edgecolor': '#646366'},\n                                  kwargs_rings={'facecolor': 'None'})\n# draw the labels\nrange_labels = radar2.draw_range_labels(ax=axs['radar'], fontproperties=serif_extra_light.prop,\n                                        fontsize=25)\nparam_labels = radar2.draw_param_labels(ax=axs['radar'], fontproperties=serif_regular.prop,\n                                        fontsize=25)\n\n# adding the endnote and title text (these axes range from 0-1, i.e. 0, 0 is the bottom left)\n# Note we are slightly offsetting the text from the edges by 0.01 (1%, e.g. 0.99)\nendnote_text = axs['endnote'].text(0.99, 0.5, 'The theme is inspired by Camille Walala',\n                                   fontproperties=serif_extra_light.prop, fontsize=15,\n                                   ha='right', va='center')\ntitle1_text = axs['title'].text(0.01, 0.65, 'Player name', fontsize=20,\n                                fontproperties=rubik_regular.prop, ha='left', va='center')\ntitle2_text = axs['title'].text(0.01, 0.25, 'Player team', fontsize=15,\n                                fontproperties=rubik_regular.prop, ha='left',\n                                va='center', color='#fa1b38')\ntitle3_text = axs['title'].text(0.99, 0.65, 'Radar Chart', fontsize=20,\n                                fontproperties=rubik_regular.prop, ha='right', va='center')\ntitle4_text = axs['title'].text(0.99, 0.25, 'Position', fontsize=15,\n                                fontproperties=rubik_regular.prop, ha='right',\n                                va='center', color='#fa1b38')\n\nfig.set_facecolor('#f2dad2')\n\nplt.show()  # If you are using a Jupyter notebook you do not need this line"
   ]
  }
 ],
 "metadata": {
  "kernelspec": {
   "display_name": "Python 3",
   "language": "python",
   "name": "python3"
  },
  "language_info": {
   "codemirror_mode": {
    "name": "ipython",
    "version": 3
   },
   "file_extension": ".py",
   "mimetype": "text/x-python",
   "name": "python",
   "nbconvert_exporter": "python",
   "pygments_lexer": "ipython3",
   "version": "3.8.5"
  }
 },
 "nbformat": 4,
 "nbformat_minor": 0
}
